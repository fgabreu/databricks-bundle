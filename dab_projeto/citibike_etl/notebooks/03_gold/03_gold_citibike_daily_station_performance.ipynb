{
 "cells": [
  {
   "cell_type": "code",
   "execution_count": 1,
   "id": "926cfc57",
   "metadata": {},
   "outputs": [],
   "source": [
    "from pyspark.sql.functions import avg, count, round"
   ]
  },
  {
   "cell_type": "code",
   "execution_count": null,
   "id": "1fb8c450",
   "metadata": {},
   "outputs": [],
   "source": [
    "catalog = dbutils.widgets.get(\"catalog\")"
   ]
  },
  {
   "cell_type": "code",
   "execution_count": null,
   "id": "432fbf7b",
   "metadata": {},
   "outputs": [],
   "source": [
    "df = spark.read.table(f\"{catalog}.02_silver.jc_citibike\")"
   ]
  },
  {
   "cell_type": "code",
   "execution_count": 3,
   "id": "82d22fdf",
   "metadata": {},
   "outputs": [],
   "source": [
    "df = df.\\\n",
    "    groupBy(\"trip_start_date\", \"start_station_name\").\\\n",
    "        agg(\n",
    "            round(avg(\"trip_duration_mins\"), 2).alias(\"avg_trip_duration_mins\"),\n",
    "            count(\"ride_id\").alias(\"total_rides_starting_here\")\n",
    "        )"
   ]
  },
  {
   "cell_type": "code",
   "execution_count": null,
   "id": "98008256",
   "metadata": {},
   "outputs": [],
   "source": [
    "df.write.\\\n",
    "    mode(\"overwrite\").\\\n",
    "    option(\"mergeSchema\", \"true\").\\\n",
    "    saveAsTable(f\"{catalog}.03_gold.daily_station_performance\")"
   ]
  }
 ],
 "metadata": {
  "kernelspec": {
   "display_name": ".venv_dbc",
   "language": "python",
   "name": "python3"
  },
  "language_info": {
   "codemirror_mode": {
    "name": "ipython",
    "version": 3
   },
   "file_extension": ".py",
   "mimetype": "text/x-python",
   "name": "python",
   "nbconvert_exporter": "python",
   "pygments_lexer": "ipython3",
   "version": "3.12.2"
  }
 },
 "nbformat": 4,
 "nbformat_minor": 5
}
